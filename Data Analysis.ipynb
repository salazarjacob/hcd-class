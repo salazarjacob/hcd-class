{
 "cells": [
  {
   "cell_type": "code",
   "execution_count": 21,
   "id": "60be76d1",
   "metadata": {},
   "outputs": [
    {
     "data": {
      "text/html": [
       "<div>\n",
       "<style scoped>\n",
       "    .dataframe tbody tr th:only-of-type {\n",
       "        vertical-align: middle;\n",
       "    }\n",
       "\n",
       "    .dataframe tbody tr th {\n",
       "        vertical-align: top;\n",
       "    }\n",
       "\n",
       "    .dataframe thead th {\n",
       "        text-align: right;\n",
       "    }\n",
       "</style>\n",
       "<table border=\"1\" class=\"dataframe\">\n",
       "  <thead>\n",
       "    <tr style=\"text-align: right;\">\n",
       "      <th></th>\n",
       "      <th>County Name</th>\n",
       "      <th>People Vaccinated with at least One Dose</th>\n",
       "      <th>People Fully Vaccinated</th>\n",
       "      <th>Median Household Income</th>\n",
       "      <th>Population</th>\n",
       "      <th>% of Population in Poverty</th>\n",
       "      <th>Unnamed: 6</th>\n",
       "      <th>Unnamed: 7</th>\n",
       "    </tr>\n",
       "  </thead>\n",
       "  <tbody>\n",
       "    <tr>\n",
       "      <th>0</th>\n",
       "      <td>Loving</td>\n",
       "      <td>41</td>\n",
       "      <td>30</td>\n",
       "      <td>$97,491</td>\n",
       "      <td>64</td>\n",
       "      <td>3.9</td>\n",
       "      <td>NaN</td>\n",
       "      <td>NaN</td>\n",
       "    </tr>\n",
       "    <tr>\n",
       "      <th>1</th>\n",
       "      <td>King</td>\n",
       "      <td>60</td>\n",
       "      <td>49</td>\n",
       "      <td>$78,210</td>\n",
       "      <td>265</td>\n",
       "      <td>12.4</td>\n",
       "      <td>NaN</td>\n",
       "      <td>NaN</td>\n",
       "    </tr>\n",
       "    <tr>\n",
       "      <th>2</th>\n",
       "      <td>Kenedy</td>\n",
       "      <td>249</td>\n",
       "      <td>219</td>\n",
       "      <td>$45,980</td>\n",
       "      <td>350</td>\n",
       "      <td>10.8</td>\n",
       "      <td>NaN</td>\n",
       "      <td>NaN</td>\n",
       "    </tr>\n",
       "    <tr>\n",
       "      <th>3</th>\n",
       "      <td>McMullen</td>\n",
       "      <td>362</td>\n",
       "      <td>332</td>\n",
       "      <td>$45,927</td>\n",
       "      <td>600</td>\n",
       "      <td>9.7</td>\n",
       "      <td>NaN</td>\n",
       "      <td>NaN</td>\n",
       "    </tr>\n",
       "    <tr>\n",
       "      <th>4</th>\n",
       "      <td>Borden</td>\n",
       "      <td>231</td>\n",
       "      <td>205</td>\n",
       "      <td>$69,499</td>\n",
       "      <td>631</td>\n",
       "      <td>7.5</td>\n",
       "      <td>NaN</td>\n",
       "      <td>NaN</td>\n",
       "    </tr>\n",
       "  </tbody>\n",
       "</table>\n",
       "</div>"
      ],
      "text/plain": [
       "  County Name People Vaccinated with at least One Dose  \\\n",
       "0      Loving                                       41   \n",
       "1        King                                       60   \n",
       "2      Kenedy                                      249   \n",
       "3    McMullen                                      362   \n",
       "4      Borden                                      231   \n",
       "\n",
       "  People Fully Vaccinated Median Household Income Population  \\\n",
       "0                      30                $97,491          64   \n",
       "1                      49                $78,210         265   \n",
       "2                     219                $45,980         350   \n",
       "3                     332                $45,927         600   \n",
       "4                     205                $69,499         631   \n",
       "\n",
       "   % of Population in Poverty  Unnamed: 6  Unnamed: 7  \n",
       "0                         3.9         NaN         NaN  \n",
       "1                        12.4         NaN         NaN  \n",
       "2                        10.8         NaN         NaN  \n",
       "3                         9.7         NaN         NaN  \n",
       "4                         7.5         NaN         NaN  "
      ]
     },
     "execution_count": 21,
     "metadata": {},
     "output_type": "execute_result"
    }
   ],
   "source": [
    "import pandas as pd\n",
    "import numpy as np\n",
    "import matplotlib.pyplot as plt\n",
    "import seaborn as sns\n",
    "\n",
    "df = pd.read_csv('data.csv')\n",
    "df.head()"
   ]
  },
  {
   "cell_type": "markdown",
   "id": "ba11682d",
   "metadata": {},
   "source": [
    "Imported several modules, and displayed my data"
   ]
  },
  {
   "cell_type": "code",
   "execution_count": 20,
   "id": "2519928d",
   "metadata": {
    "scrolled": true
   },
   "outputs": [
    {
     "data": {
      "text/plain": [
       "<AxesSubplot:xlabel='Median Household Income', ylabel='People Fully Vaccinated'>"
      ]
     },
     "execution_count": 20,
     "metadata": {},
     "output_type": "execute_result"
    },
    {
     "data": {
      "image/png": "[encoded data removed]",
      "text/plain": [
       "<Figure size 432x288 with 1 Axes>"
      ]
     },
     "metadata": {
      "needs_background": "light"
     },
     "output_type": "display_data"
    }
   ],
   "source": [
    "sns.scatterplot(data=df, x=\"Median Household Income\", y=\"People Fully Vaccinated\")"
   ]
  },
  {
   "cell_type": "markdown",
   "id": "ce2533b7",
   "metadata": {},
   "source": [
    "Created a scatterplot"
   ]
  }
 ],
 "metadata": {
  "kernelspec": {
   "display_name": "Python 3 (ipykernel)",
   "language": "python",
   "name": "python3"
  },
  "language_info": {
   "codemirror_mode": {
    "name": "ipython",
    "version": 3
   },
   "file_extension": ".py",
   "mimetype": "text/x-python",
   "name": "python",
   "nbconvert_exporter": "python",
   "pygments_lexer": "ipython3",
   "version": "3.9.12"
  }
 },
 "nbformat": 4,
 "nbformat_minor": 5
}
